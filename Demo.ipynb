{
 "cells": [
  {
   "cell_type": "code",
   "execution_count": null,
   "id": "045d78fc",
   "metadata": {},
   "outputs": [],
   "source": [
    "import warnings\n",
    "warnings.filterwarnings('ignore')\n",
    "\n",
    "import ipywidgets as widgets\n",
    "from IPython.display import display, clear_output"
   ]
  },
  {
   "cell_type": "code",
   "execution_count": null,
   "id": "4bf4557c",
   "metadata": {},
   "outputs": [],
   "source": [
    "#!jupyter nbextension enable --py widgetsnbextension --sys-prefix\n",
    "#!jupyter serverextension enable voila --sys-prefix"
   ]
  },
  {
   "cell_type": "code",
   "execution_count": null,
   "id": "bde7ab70",
   "metadata": {},
   "outputs": [],
   "source": [
    "# image widget\n",
    "file = open(\"BitCoinChart.png\", \"rb\")\n",
    "image = file.read()\n",
    "widgets.Image(\n",
    "    value=image,\n",
    "    format='png',\n",
    "    width=400,\n",
    "    height=200,\n",
    ")"
   ]
  },
  {
   "cell_type": "code",
   "execution_count": null,
   "id": "55ad8618",
   "metadata": {},
   "outputs": [],
   "source": [
    "#widgets.ToggleButtons(\n",
    "#                   options=['Bitcoin', 'Ethereum', 'Litecoin'],\n",
    "#                    description='Crypto:',\n",
    "#                    disabled=False,\n",
    "#                    button_style='info', # 'success', 'info', 'warning', 'danger' or ''\n",
    "#                    tooltips=['Bitcoin forecast', 'Ethereum forecast', 'Litecoin forecast'],\n",
    "#               )"
   ]
  },
  {
   "cell_type": "code",
   "execution_count": null,
   "id": "26881650",
   "metadata": {},
   "outputs": [],
   "source": [
    "widgets.RadioButtons(\n",
    "                options=['Bitcoin', 'Ethereum', 'Litecoin'],\n",
    "                    description='Crypto:',\n",
    "                    disabled=False,\n",
    "                    tooltips=['Bitcoin forecast', 'Ethereum forecast', 'Litecoin forecast'],\n",
    "            )"
   ]
  },
  {
   "cell_type": "code",
   "execution_count": null,
   "id": "e97ac31e",
   "metadata": {},
   "outputs": [],
   "source": [
    "widgets.Button(\n",
    "                description='Forecast',\n",
    "                tooltip='Forecast',\n",
    "                style={'description_width': 'initial'}\n",
    "            )\n",
    "\n",
    "#def on_button_clicked(event):\n",
    "#    with output:\n",
    "#        print(\"Sent message: \")\n",
    "#       clear_output()\n",
    "#        print(\"Sent message: \")\n",
    "#        print(f\"Dear Grandma! This is your favourite {grand.value}, {name.value}.\")\n",
    "#        print(f\"I would love to come over on {date.value} for dinner, if that's okay for you!\")\n",
    "#        print(f\"Also, if you don't mind, I'll bring along {friends.value} hungry ghosts for your delicious food!\")\n",
    "#button_send.on_click(on_button_clicked)\n",
    "#vbox_result = widgets.VBox([button_send, output])"
   ]
  },
  {
   "cell_type": "code",
   "execution_count": null,
   "id": "87873e54",
   "metadata": {},
   "outputs": [],
   "source": [
    "#output = widgets.Output()\n",
    "\n",
    "#def on_ToggleButtons_clicked(event):\n",
    "#    with output:\n",
    "#        clear_output()\n",
    "#        print('Linear Regression Confidence for Bitcoin: ' + str())\n",
    "        \n",
    "#button_request.on_click(on_ToggleButtons_clicked)\n",
    "\n",
    "#vbox_result = widgets.VBox(crypto, output)"
   ]
  }
 ],
 "metadata": {
  "kernelspec": {
   "display_name": "Python 3 (ipykernel)",
   "language": "python",
   "name": "python3"
  },
  "language_info": {
   "codemirror_mode": {
    "name": "ipython",
    "version": 3
   },
   "file_extension": ".py",
   "mimetype": "text/x-python",
   "name": "python",
   "nbconvert_exporter": "python",
   "pygments_lexer": "ipython3",
   "version": "3.9.12"
  }
 },
 "nbformat": 4,
 "nbformat_minor": 5
}
